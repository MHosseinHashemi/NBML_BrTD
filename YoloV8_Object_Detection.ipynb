{
 "cells": [
  {
   "cell_type": "markdown",
   "id": "a4a9c607",
   "metadata": {},
   "source": [
    "# Import Packages"
   ]
  },
  {
   "cell_type": "code",
   "execution_count": null,
   "id": "520f3e9b",
   "metadata": {},
   "outputs": [],
   "source": [
    "# import labelme2yolo \n",
    "import os\n",
    "import gc\n",
    "import shutil\n",
    "from tqdm import tqdm\n",
    "from sklearn.model_selection import *\n",
    "from ultralytics import YOLO\n",
    "import warnings\n",
    "import cv2\n",
    "warnings.filterwarnings('ignore')"
   ]
  },
  {
   "cell_type": "markdown",
   "id": "0b21689e",
   "metadata": {},
   "source": [
    "# Data Preprocess "
   ]
  },
  {
   "cell_type": "code",
   "execution_count": null,
   "id": "4bca3198",
   "metadata": {},
   "outputs": [],
   "source": [
    "\"\"\"Converting all the JSON labels to YOLO format\"\"\"\n",
    "!labelme2yolo --json_dir \"C:\\\\Users\\\\Eurus\\\\Desktop\\\\YoloV8\\\\L\""
   ]
  },
  {
   "cell_type": "code",
   "execution_count": null,
   "id": "d1a0f324",
   "metadata": {},
   "outputs": [],
   "source": [
    "# # Collecting all the correspounding addresses for the Pics\n",
    "image_size = 540\n",
    "\n",
    "def image_divider(image_dir):\n",
    "    images_path = []\n",
    "    # Reads all the paths to the images\n",
    "    for idx in tqdm(os.listdir(image_dir)):\n",
    "        if idx.endswith('.jpg'):\n",
    "            if \"T\" in idx:\n",
    "                images_path.append({\"Address\":idx, \"Label\":\"Y\"})\n",
    "            elif \"N\" in idx:\n",
    "                images_path.append({\"Address\":idx, \"Label\":\"N\"})\n",
    "            else:\n",
    "                print(\"Error! Something went wrong...\")\n",
    "                print(idx)\n",
    "\n",
    "    return images_path\n"
   ]
  },
  {
   "cell_type": "code",
   "execution_count": null,
   "id": "95603cfb",
   "metadata": {},
   "outputs": [],
   "source": [
    "img_data_path = image_divider(\"C:\\\\Users\\\\Eurus\\\\Desktop\\\\YoloV8\\\\images\")"
   ]
  },
  {
   "cell_type": "code",
   "execution_count": null,
   "id": "222ec1f2",
   "metadata": {},
   "outputs": [],
   "source": [
    "# Double Checking\n",
    "img_data_path[12610]"
   ]
  },
  {
   "cell_type": "code",
   "execution_count": null,
   "id": "722912bd",
   "metadata": {},
   "outputs": [],
   "source": [
    "# Splitting the data into Train/Validation/Test Sets with respect to their distribution\n",
    "train_images_indexes, test_images_init_indexes = train_test_split(img_data_path, test_size=0.3, stratify=[d['Label'] for d in img_data_path])"
   ]
  },
  {
   "cell_type": "code",
   "execution_count": null,
   "id": "a5c42ec7",
   "metadata": {},
   "outputs": [],
   "source": [
    "# This time divide the test set in two sets of TEST and VALIDATION with respect to the general rule of label distribution\n",
    "validation_images_indexes, test_images_indexes = train_test_split(test_images_init_indexes, test_size=0.5, stratify=[d['Label'] for d in test_images_init_indexes])"
   ]
  },
  {
   "cell_type": "code",
   "execution_count": null,
   "id": "ac8c3ecb",
   "metadata": {},
   "outputs": [],
   "source": [
    "# No more needed since we have our three sets\n",
    "del test_images_init_indexes"
   ]
  },
  {
   "cell_type": "code",
   "execution_count": null,
   "id": "2587fc68",
   "metadata": {},
   "outputs": [],
   "source": [
    "\"double checking the distribution of labels in Validation/Training/Test set\"\n",
    "Tumors = 0\n",
    "Normals = 0\n",
    "\n",
    "for idx in range(len(train_images_indexes)):\n",
    "    if train_images_indexes[idx]['Label']==\"Y\":\n",
    "        Tumors+=1\n",
    "    elif train_images_indexes[idx]['Label']==\"N\":\n",
    "        Normals+=1\n",
    "        \n",
    "Tumors = Tumors*100/len(train_images_indexes) \n",
    "\n",
    "print(f\"Total percentage of Tumor cases : {Tumors}\\n\")"
   ]
  },
  {
   "cell_type": "markdown",
   "id": "a3534f1f",
   "metadata": {},
   "source": [
    "* Total percentage of Tumor cases in Training Set:    \n",
    "    * %9.19\n",
    "\n",
    "* Total percentage of Tumor cases in Validation Set:\n",
    "    * %9.20\n",
    "\n",
    "* Total percentage of Tumor cases in Test Set:        \n",
    "    * %9.15"
   ]
  },
  {
   "cell_type": "code",
   "execution_count": null,
   "id": "70a5efdc",
   "metadata": {},
   "outputs": [],
   "source": [
    "# Simply remove the label Key from the Dictionary\n",
    "def cleaner(my_input):\n",
    "    for idx in range(len(my_input)):\n",
    "        del my_input[idx]['Label']\n"
   ]
  },
  {
   "cell_type": "code",
   "execution_count": null,
   "id": "f6140756",
   "metadata": {},
   "outputs": [],
   "source": [
    "cleaner(train_images_indexes)\n",
    "cleaner(validation_images_indexes)\n",
    "cleaner(test_images_indexes)"
   ]
  },
  {
   "cell_type": "code",
   "execution_count": null,
   "id": "257641e5",
   "metadata": {},
   "outputs": [],
   "source": [
    "train_images_indexes[0]"
   ]
  },
  {
   "cell_type": "code",
   "execution_count": null,
   "id": "7cac2134",
   "metadata": {},
   "outputs": [],
   "source": [
    "# Move all of them to their correspouding folder\n",
    "training_path = \"C:\\\\Users\\\\Eurus\\\\Desktop\\\\YoloV8\\\\train\\\\images\"\n",
    "validation_path = \"C:\\\\Users\\\\Eurus\\\\Desktop\\\\YoloV8\\\\val\\\\images\"\n",
    "test_path = \"C:\\\\Users\\\\Eurus\\\\Desktop\\\\YoloV8\\\\test\\\\images\"\n",
    "\n",
    "def move_images(root, destination):\n",
    "    main_dir = \"C:\\\\Users\\\\Eurus\\\\Desktop\\\\YoloV8\\\\images\"\n",
    "    for index in tqdm(range(len(root))):\n",
    "        temp = os.path.join(main_dir, root[index]['Address'])\n",
    "        shutil.move(temp, destination)\n",
    "        del temp"
   ]
  },
  {
   "cell_type": "code",
   "execution_count": null,
   "id": "4acb91ac",
   "metadata": {},
   "outputs": [],
   "source": [
    "move_images(train_images_indexes, training_path)"
   ]
  },
  {
   "cell_type": "code",
   "execution_count": null,
   "id": "c20cbdd5",
   "metadata": {},
   "outputs": [],
   "source": [
    "move_images(validation_images_indexes, validation_path)"
   ]
  },
  {
   "cell_type": "code",
   "execution_count": null,
   "id": "5bd0ac88",
   "metadata": {},
   "outputs": [],
   "source": [
    "move_images(test_images_indexes, test_path)"
   ]
  },
  {
   "cell_type": "code",
   "execution_count": null,
   "id": "f0637f5c",
   "metadata": {},
   "outputs": [],
   "source": [
    "# Clear the JPG from their names to further locate them in labels folder\n",
    "def cleaner_2(my_list):\n",
    "    for idx in range(len(my_list)):\n",
    "        my_list[idx]['Address'] = my_list[idx]['Address'].rstrip(\".jpg\")\n",
    "        "
   ]
  },
  {
   "cell_type": "code",
   "execution_count": null,
   "id": "de80cce1",
   "metadata": {},
   "outputs": [],
   "source": [
    "cleaner_2(test_images_indexes)"
   ]
  },
  {
   "cell_type": "code",
   "execution_count": null,
   "id": "b18a1aa6",
   "metadata": {},
   "outputs": [],
   "source": [
    "cleaner_2(validation_images_indexes)"
   ]
  },
  {
   "cell_type": "code",
   "execution_count": null,
   "id": "07b191da",
   "metadata": {},
   "outputs": [],
   "source": [
    "cleaner_2(train_images_indexes)"
   ]
  },
  {
   "cell_type": "code",
   "execution_count": null,
   "id": "669bf92e",
   "metadata": {},
   "outputs": [],
   "source": [
    "# now move the labels ...\n",
    "training_label_path = \"C:\\\\Users\\\\Eurus\\\\Desktop\\\\YoloV8\\\\train\\\\labels\"\n",
    "validation_label_path = \"C:\\\\Users\\\\Eurus\\\\Desktop\\\\YoloV8\\\\val\\\\labels\"\n",
    "test_label_path = \"C:\\\\Users\\\\Eurus\\\\Desktop\\\\YoloV8\\\\test\\\\labels\"\n",
    "\n",
    "def move_labels(root, destination):\n",
    "    main_dir = \"C:\\\\Users\\\\Eurus\\\\Desktop\\\\YoloV8\\\\labels\"\n",
    "    for index in tqdm(range(len(root))):\n",
    "        # Only the tumors have labels\n",
    "        if \"T\" in root[index]['Address']:\n",
    "            temp = os.path.join(main_dir, root[index]['Address']+\".txt\")\n",
    "            shutil.move(temp, destination)\n",
    "            del temp"
   ]
  },
  {
   "cell_type": "code",
   "execution_count": null,
   "id": "2e1e31b9",
   "metadata": {},
   "outputs": [],
   "source": [
    "move_labels(train_images_indexes,training_label_path)"
   ]
  },
  {
   "cell_type": "code",
   "execution_count": null,
   "id": "f409396d",
   "metadata": {},
   "outputs": [],
   "source": [
    "move_labels(validation_images_indexes,validation_label_path)"
   ]
  },
  {
   "cell_type": "code",
   "execution_count": null,
   "id": "cce637fa",
   "metadata": {},
   "outputs": [],
   "source": [
    "move_labels(test_images_indexes,test_label_path)"
   ]
  },
  {
   "cell_type": "code",
   "execution_count": null,
   "id": "cfb4f775",
   "metadata": {},
   "outputs": [],
   "source": [
    "del test_images_indexes, validation_images_indexes, train_images_indexes"
   ]
  },
  {
   "cell_type": "code",
   "execution_count": null,
   "id": "bd13cae6",
   "metadata": {},
   "outputs": [],
   "source": [
    "gc.collect()"
   ]
  },
  {
   "cell_type": "markdown",
   "id": "425af95d",
   "metadata": {},
   "source": [
    "Need to write a function to create dummy coordinates for images without Tumor"
   ]
  },
  {
   "cell_type": "code",
   "execution_count": null,
   "id": "de36e056",
   "metadata": {},
   "outputs": [],
   "source": [
    "def coordinator(path):\n",
    "    for idx in tqdm(os.listdir(path)):\n",
    "        if \"N\" in idx:\n",
    "            idx = idx.rstrip(\".jpg\")\n",
    "            temp_file = open(f\"{idx}.txt\", \"x\")\n",
    "            # add dummy but consistent coordinates\n",
    "            temp_file.write(\"1 0.500926 0.500926 0.998148 0.998148\")\n",
    "            temp_file.close()\n",
    "        else:\n",
    "            pass"
   ]
  },
  {
   "cell_type": "code",
   "execution_count": null,
   "id": "4bae136e",
   "metadata": {},
   "outputs": [],
   "source": [
    "path = \"C:\\\\Users\\\\Eurus\\\\Desktop\\\\YoloV8\\\\train\\\\images\"\n",
    "\n",
    "coordinator(path)"
   ]
  },
  {
   "cell_type": "code",
   "execution_count": null,
   "id": "bc25e639",
   "metadata": {},
   "outputs": [],
   "source": [
    "path = \"C:\\\\Users\\\\Eurus\\\\Desktop\\\\YoloV8\\\\val\\\\images\"\n",
    "\n",
    "coordinator(path)"
   ]
  },
  {
   "cell_type": "markdown",
   "id": "a1aba82b",
   "metadata": {},
   "source": [
    "# Training"
   ]
  },
  {
   "cell_type": "code",
   "execution_count": null,
   "id": "e39c7999",
   "metadata": {},
   "outputs": [],
   "source": [
    "model = YOLO(\"yolov8n.pt\")"
   ]
  },
  {
   "cell_type": "code",
   "execution_count": null,
   "id": "d3c03779",
   "metadata": {
    "scrolled": true
   },
   "outputs": [],
   "source": [
    "model.train(data=\"C:\\\\Users\\\\Eurus\\\\Desktop\\\\YoloV8\\\\custom_data.yaml\",\n",
    "            epochs=50,\n",
    "            batch=-1,\n",
    "            imgsz=540,\n",
    "            verbose=True,\n",
    "            amp=False,\n",
    "            device=0,\n",
    "#             classes=['Tumor'],\n",
    "#             single_cls=True\n",
    "           )"
   ]
  },
  {
   "cell_type": "markdown",
   "id": "3541fb4e",
   "metadata": {},
   "source": [
    "# Test"
   ]
  },
  {
   "cell_type": "code",
   "execution_count": null,
   "id": "2cde751b",
   "metadata": {},
   "outputs": [],
   "source": [
    "model.predict(\"C:\\\\Users\\\\Eurus\\\\Desktop\\\\Test_Data\\\\Normal\\\\Patient-970504191301\",\n",
    "             save=True,\n",
    "             device=0,\n",
    "             save_conf=True,\n",
    "             save_txt=True,\n",
    "             max_det=5\n",
    "            )"
   ]
  },
  {
   "cell_type": "code",
   "execution_count": null,
   "id": "69b833b9",
   "metadata": {},
   "outputs": [],
   "source": [
    "# Making predictions Case By Case\n",
    "root = \"C:\\\\Users\\\\Eurus\\\\Desktop\\\\Test_Data\\\\Normal\"\n",
    "destination = \"D:\\\\NormalCases\" \n",
    "\n",
    "def perform_detection(root, destination):\n",
    "    const = \"C:\\\\Users\\\\Eurus\\\\Desktop\\\\YoloV8\\\\runs\\\\detect\\\\predict\"\n",
    "    for index in os.listdir(root):\n",
    "        patient_root = os.path.join(root,index)\n",
    "        patient_dest = os.path.join(destination,index)\n",
    "        os.makedirs(patient_dest, exist_ok=True)\n",
    "        \n",
    "        for image in tqdm(os.listdir(patient_root)):\n",
    "            temp_path = os.path.join(patient_root,image)\n",
    "            # Make detections\n",
    "            detections = model.predict(source=temp_path,\n",
    "                                       project=image,\n",
    "                                       save_conf=True,\n",
    "                                       save_txt=True,\n",
    "                                       save=True,\n",
    "                                       device=0,\n",
    "                                       max_det=5)\n",
    "            # Move the saved predictions to the patient's destination folder\n",
    "            path = os.path.join(const,image)\n",
    "            print(path)\n",
    "            shutil.move(os.path.join(const,image), patient_dest)\n",
    "            \n",
    "            del detections, temp_path, path\n",
    "    "
   ]
  },
  {
   "cell_type": "code",
   "execution_count": null,
   "id": "b1ec868f",
   "metadata": {},
   "outputs": [],
   "source": [
    "perform_detection(root,destination)"
   ]
  },
  {
   "cell_type": "code",
   "execution_count": null,
   "id": "1a7a2a19",
   "metadata": {},
   "outputs": [],
   "source": []
  },
  {
   "cell_type": "code",
   "execution_count": null,
   "id": "8a0a5984",
   "metadata": {},
   "outputs": [],
   "source": []
  }
 ],
 "metadata": {
  "kernelspec": {
   "display_name": "Pytorch",
   "language": "python",
   "name": "pytorch"
  },
  "language_info": {
   "codemirror_mode": {
    "name": "ipython",
    "version": 3
   },
   "file_extension": ".py",
   "mimetype": "text/x-python",
   "name": "python",
   "nbconvert_exporter": "python",
   "pygments_lexer": "ipython3",
   "version": "3.9.7"
  }
 },
 "nbformat": 4,
 "nbformat_minor": 5
}
